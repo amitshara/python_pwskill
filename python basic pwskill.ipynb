{
  "cells": [
    {
      "cell_type": "markdown",
      "source": [
        "Q1.\n",
        "- Python is a programming language which is used by programmer over the world it is very popular because of its easy acesseble and it is very easy to understand coding language..\n",
        "\n",
        "Q2.\n",
        "- interpreter is a programme which excute python code line by line\n",
        "it tranlate python code into machine readable instruction.\n",
        "\n",
        "Q3.\n",
        "- predefined keyword in python is reserve word which have specific meaning and purpose..\n",
        "\n",
        "Q4.\n",
        "- no , keyword can not be use as veriable name\n",
        "\n",
        "Q5.\n",
        "- muatabliy is refer to which action where we can modify data after it is created..\n",
        "\n",
        "Q6.\n",
        "- the key difference between tuple and list is their design and pettern and list is muatable and tuple is immuatable because of its safety and flexiblity..\n",
        "\n",
        "Q7.\n",
        "- '==' is an equality oprator but 'is' is identify oprator.\n",
        "\n",
        "\n",
        "Q8.\n",
        "- logical operator in python is use to combine conditonal statement based on logical statement..\n",
        "\n",
        "\n",
        "Q9.\n",
        "- type casting is process in python where we can change type of data into another type like (string to int), (int to float).\n",
        "\n",
        "Q10.\n",
        "- implicit casting is done by python automatticly but explicit casting done by progrramer manually\n",
        "\n",
        "Q11.\n",
        "- contional statement allow user to make desicion based on predefined conditions..\n",
        "\n",
        "Q12.\n",
        "- elif statement in Python stands for \"else if\" and allows you to check multiple conditions in a conditional structure..\n",
        "\n",
        "Q13.\n",
        "- for loop excute the block repeatedly till predefined range by user\n",
        "but while loop excute block till predefined condition is true..\n",
        "\n",
        "Q14.\n",
        "- If you need to keep asking the user for input until they provide a valid response, a while loop is ideal because the number of iterations depends on the condition..."
      ],
      "metadata": {
        "id": "rqLuwKbWRaf3"
      }
    },
    {
      "cell_type": "code",
      "source": [
        "#Q1\n",
        "\n",
        "print(\"Hello world\")"
      ],
      "metadata": {
        "id": "MeSntLW5Rg_H"
      },
      "execution_count": null,
      "outputs": []
    },
    {
      "cell_type": "code",
      "source": [
        "#Q2\n",
        "\n",
        "print(\"my name is amit sharma\\n\" + \"i am 22 years old\")"
      ],
      "metadata": {
        "id": "JQZ65_uxRq1V"
      },
      "execution_count": null,
      "outputs": []
    },
    {
      "cell_type": "code",
      "source": [
        "#Q3\n",
        "\n",
        "\n",
        "print(keyword.kwlist)"
      ],
      "metadata": {
        "id": "K-7yqeKBRwgX"
      },
      "execution_count": null,
      "outputs": []
    },
    {
      "cell_type": "code",
      "source": [
        "#Q4\n",
        "\n",
        "word = input(\"enter your word\")\n",
        "\n",
        "if word in keyword.kwlist:\n",
        "  print(\"it is keyword\")\n",
        "else:\n",
        "    print(\"it is not keyword\")\n",
        "\n",
        "#"
      ],
      "metadata": {
        "id": "ySrZWyM4R6Zu",
        "outputId": "80814574-10d7-4c3f-ac36-9226864313d1",
        "colab": {
          "base_uri": "https://localhost:8080/",
          "height": 370
        }
      },
      "execution_count": 5,
      "outputs": [
        {
          "output_type": "error",
          "ename": "KeyboardInterrupt",
          "evalue": "Interrupted by user",
          "traceback": [
            "\u001b[0;31m---------------------------------------------------------------------------\u001b[0m",
            "\u001b[0;31mKeyboardInterrupt\u001b[0m                         Traceback (most recent call last)",
            "\u001b[0;32m<ipython-input-5-c2817533e9bc>\u001b[0m in \u001b[0;36m<cell line: 3>\u001b[0;34m()\u001b[0m\n\u001b[1;32m      1\u001b[0m \u001b[0;31m#Q4\u001b[0m\u001b[0;34m\u001b[0m\u001b[0;34m\u001b[0m\u001b[0m\n\u001b[1;32m      2\u001b[0m \u001b[0;34m\u001b[0m\u001b[0m\n\u001b[0;32m----> 3\u001b[0;31m \u001b[0mword\u001b[0m \u001b[0;34m=\u001b[0m \u001b[0minput\u001b[0m\u001b[0;34m(\u001b[0m\u001b[0;34m\"enter your word\"\u001b[0m\u001b[0;34m)\u001b[0m\u001b[0;34m\u001b[0m\u001b[0;34m\u001b[0m\u001b[0m\n\u001b[0m\u001b[1;32m      4\u001b[0m \u001b[0;34m\u001b[0m\u001b[0m\n\u001b[1;32m      5\u001b[0m \u001b[0;32mif\u001b[0m \u001b[0mword\u001b[0m \u001b[0;32min\u001b[0m \u001b[0mkeyword\u001b[0m\u001b[0;34m.\u001b[0m\u001b[0mkwlist\u001b[0m\u001b[0;34m:\u001b[0m\u001b[0;34m\u001b[0m\u001b[0;34m\u001b[0m\u001b[0m\n",
            "\u001b[0;32m/usr/local/lib/python3.10/dist-packages/ipykernel/kernelbase.py\u001b[0m in \u001b[0;36mraw_input\u001b[0;34m(self, prompt)\u001b[0m\n\u001b[1;32m    849\u001b[0m                 \u001b[0;34m\"raw_input was called, but this frontend does not support input requests.\"\u001b[0m\u001b[0;34m\u001b[0m\u001b[0;34m\u001b[0m\u001b[0m\n\u001b[1;32m    850\u001b[0m             )\n\u001b[0;32m--> 851\u001b[0;31m         return self._input_request(str(prompt),\n\u001b[0m\u001b[1;32m    852\u001b[0m             \u001b[0mself\u001b[0m\u001b[0;34m.\u001b[0m\u001b[0m_parent_ident\u001b[0m\u001b[0;34m,\u001b[0m\u001b[0;34m\u001b[0m\u001b[0;34m\u001b[0m\u001b[0m\n\u001b[1;32m    853\u001b[0m             \u001b[0mself\u001b[0m\u001b[0;34m.\u001b[0m\u001b[0m_parent_header\u001b[0m\u001b[0;34m,\u001b[0m\u001b[0;34m\u001b[0m\u001b[0;34m\u001b[0m\u001b[0m\n",
            "\u001b[0;32m/usr/local/lib/python3.10/dist-packages/ipykernel/kernelbase.py\u001b[0m in \u001b[0;36m_input_request\u001b[0;34m(self, prompt, ident, parent, password)\u001b[0m\n\u001b[1;32m    893\u001b[0m             \u001b[0;32mexcept\u001b[0m \u001b[0mKeyboardInterrupt\u001b[0m\u001b[0;34m:\u001b[0m\u001b[0;34m\u001b[0m\u001b[0;34m\u001b[0m\u001b[0m\n\u001b[1;32m    894\u001b[0m                 \u001b[0;31m# re-raise KeyboardInterrupt, to truncate traceback\u001b[0m\u001b[0;34m\u001b[0m\u001b[0;34m\u001b[0m\u001b[0m\n\u001b[0;32m--> 895\u001b[0;31m                 \u001b[0;32mraise\u001b[0m \u001b[0mKeyboardInterrupt\u001b[0m\u001b[0;34m(\u001b[0m\u001b[0;34m\"Interrupted by user\"\u001b[0m\u001b[0;34m)\u001b[0m \u001b[0;32mfrom\u001b[0m \u001b[0;32mNone\u001b[0m\u001b[0;34m\u001b[0m\u001b[0;34m\u001b[0m\u001b[0m\n\u001b[0m\u001b[1;32m    896\u001b[0m             \u001b[0;32mexcept\u001b[0m \u001b[0mException\u001b[0m \u001b[0;32mas\u001b[0m \u001b[0me\u001b[0m\u001b[0;34m:\u001b[0m\u001b[0;34m\u001b[0m\u001b[0;34m\u001b[0m\u001b[0m\n\u001b[1;32m    897\u001b[0m                 \u001b[0mself\u001b[0m\u001b[0;34m.\u001b[0m\u001b[0mlog\u001b[0m\u001b[0;34m.\u001b[0m\u001b[0mwarning\u001b[0m\u001b[0;34m(\u001b[0m\u001b[0;34m\"Invalid Message:\"\u001b[0m\u001b[0;34m,\u001b[0m \u001b[0mexc_info\u001b[0m\u001b[0;34m=\u001b[0m\u001b[0;32mTrue\u001b[0m\u001b[0;34m)\u001b[0m\u001b[0;34m\u001b[0m\u001b[0;34m\u001b[0m\u001b[0m\n",
            "\u001b[0;31mKeyboardInterrupt\u001b[0m: Interrupted by user"
          ]
        }
      ]
    },
    {
      "cell_type": "code",
      "source": [
        "#Q5.\n",
        "\n",
        "list1 = [122,3443,324,4,334,334,4,324,343]\n",
        "tuple1 = (24,4342,3,3,32,4,4343,33,432,34)\n",
        "\n",
        "#lets try to change element in list\n",
        "\n",
        "list1[1] = 50\n",
        "\n",
        "print(list1)\n",
        "\n",
        "'''output:- 122, 50, 324, 4, 334, 334, 4, 324, 343]'''\n",
        "\n",
        "#lets try to change element in tuple\n",
        "\n",
        "tuple1[1] = 30\n",
        "\n",
        "print(tuple1)\n",
        "\n",
        "#output :- tuple' object does not support item assignment\n",
        "\n",
        "\n"
      ],
      "metadata": {
        "id": "YhMccyPBSEGk",
        "outputId": "6457684b-c5c6-4f4b-a6e7-e170f087f39b",
        "colab": {
          "base_uri": "https://localhost:8080/",
          "height": 237
        }
      },
      "execution_count": 4,
      "outputs": [
        {
          "output_type": "stream",
          "name": "stdout",
          "text": [
            "[122, 50, 324, 4, 334, 334, 4, 324, 343]\n"
          ]
        },
        {
          "output_type": "error",
          "ename": "TypeError",
          "evalue": "'tuple' object does not support item assignment",
          "traceback": [
            "\u001b[0;31m---------------------------------------------------------------------------\u001b[0m",
            "\u001b[0;31mTypeError\u001b[0m                                 Traceback (most recent call last)",
            "\u001b[0;32m<ipython-input-4-95a3ca21f6ee>\u001b[0m in \u001b[0;36m<cell line: 14>\u001b[0;34m()\u001b[0m\n\u001b[1;32m     12\u001b[0m \u001b[0;31m#lets try to change element in tuple\u001b[0m\u001b[0;34m\u001b[0m\u001b[0;34m\u001b[0m\u001b[0m\n\u001b[1;32m     13\u001b[0m \u001b[0;34m\u001b[0m\u001b[0m\n\u001b[0;32m---> 14\u001b[0;31m \u001b[0mtuple1\u001b[0m\u001b[0;34m[\u001b[0m\u001b[0;36m1\u001b[0m\u001b[0;34m]\u001b[0m \u001b[0;34m=\u001b[0m \u001b[0;36m30\u001b[0m\u001b[0;34m\u001b[0m\u001b[0;34m\u001b[0m\u001b[0m\n\u001b[0m\u001b[1;32m     15\u001b[0m \u001b[0;34m\u001b[0m\u001b[0m\n\u001b[1;32m     16\u001b[0m \u001b[0mprint\u001b[0m\u001b[0;34m(\u001b[0m\u001b[0mtuple1\u001b[0m\u001b[0;34m)\u001b[0m\u001b[0;34m\u001b[0m\u001b[0;34m\u001b[0m\u001b[0m\n",
            "\u001b[0;31mTypeError\u001b[0m: 'tuple' object does not support item assignment"
          ]
        }
      ]
    },
    {
      "cell_type": "code",
      "source": [
        "#Q6\n",
        "\n",
        "def modify_arguments(mutable_obj, immutable_obj):\n",
        "    # Modifying the mutable object (list)\n",
        "    mutable_obj.append(100)\n",
        "\n",
        "    # Attempting to modify the immutable object (integer)\n",
        "    immutable_obj += 100\n",
        "\n",
        "    # Printing inside the function\n",
        "    print(\"Inside function:\")\n",
        "    print(\"Mutable object:\", mutable_obj)\n",
        "    print(\"Immutable object:\", immutable_obj)\n",
        "\n",
        "# Mutable argument: List\n",
        "my_list = [1, 2, 3]\n",
        "\n",
        "# Immutable argument: Integer\n",
        "my_number = 10\n",
        "\n",
        "# Calling the function\n",
        "modify_arguments(my_list, my_number)\n",
        "\n",
        "# Printing outside the function\n",
        "print(\"\\nOutside function:\")\n",
        "print(\"Mutable object:\", my_list)  # List modified\n",
        "print(\"Immutable object:\", my_number)  # Integer remains unchanged\n",
        "\n",
        "#this Question is very hard i did this question with the help of chatgpt..\n"
      ],
      "metadata": {
        "id": "58cmSC2ISmNE",
        "outputId": "2f22daf1-5282-4c99-84bf-a5f950db3453",
        "colab": {
          "base_uri": "https://localhost:8080/"
        }
      },
      "execution_count": 9,
      "outputs": [
        {
          "output_type": "stream",
          "name": "stdout",
          "text": [
            "Inside function:\n",
            "Mutable object: [1, 2, 3, 100]\n",
            "Immutable object: 110\n",
            "\n",
            "Outside function:\n",
            "Mutable object: [1, 2, 3, 100]\n",
            "Immutable object: 10\n"
          ]
        }
      ]
    },
    {
      "cell_type": "code",
      "source": [
        "#Q7.\n",
        "\n",
        "#Question no.06 and Question no.07 is same"
      ],
      "metadata": {
        "id": "fHGtZL3OXo8Y"
      },
      "execution_count": null,
      "outputs": []
    },
    {
      "cell_type": "code",
      "source": [
        "#Q8.\n",
        "\n",
        "age = int(input(\"enter your age\"))\n",
        "permission = input(\"enter your permission\")\n",
        "\n",
        "#uses of \"and\"\n",
        "if age >= 18 and permission == \"yes\":\n",
        "    print(\"you are adult and you can go to bar\")\n",
        "else:\n",
        "    print(\"you are not adult , you can not go to bar\")\n",
        "\n",
        "#uses of \"or\"\n",
        "if age >= 18 or permission == \"yes\":\n",
        "    print(\"partial acess\")\n",
        "else:\n",
        "    print(\"permission denied\")\n",
        "\n",
        "\n",
        "#uses of \"not\"\n",
        "\n",
        "if not permission == \"yes\":\n",
        "    print(\"you don't have permission\")\n",
        "else:\n",
        "    print(\"you have permission\")\n"
      ],
      "metadata": {
        "id": "RY5cMdbYZ_jh",
        "outputId": "d5a25ec3-9763-4396-9989-16b2cd978458",
        "colab": {
          "base_uri": "https://localhost:8080/"
        }
      },
      "execution_count": 15,
      "outputs": [
        {
          "output_type": "stream",
          "name": "stdout",
          "text": [
            "enter your age15\n",
            "enter your permissionno\n",
            "you are not adult , you can not go to bar\n",
            "permission denied\n",
            "you don't have permission\n"
          ]
        }
      ]
    },
    {
      "cell_type": "code",
      "source": [
        "#Q9.\n",
        "\n",
        "user = input(\"enter your value\")\n",
        "\n",
        "#casting between user_input to int\n",
        "\n",
        "convert = int(user)\n",
        "print(convert)\n",
        "\n",
        "#casting between string to float\n",
        "\n",
        "convert1 = float(user)\n",
        "print(convert1)\n",
        "\n",
        "\n",
        "#casting between string to string\n",
        "\n",
        "convert2 = str(user)\n",
        "print(convert2)\n",
        "\n",
        "#casting between string to boolean\n",
        "\n",
        "convert3 = bool(user)\n",
        "print(convert3)\n"
      ],
      "metadata": {
        "id": "wJS-cCcxbBhe",
        "outputId": "76733f6b-c93e-4040-eaf1-01aab6b0eead",
        "colab": {
          "base_uri": "https://localhost:8080/"
        }
      },
      "execution_count": 6,
      "outputs": [
        {
          "output_type": "stream",
          "name": "stdout",
          "text": [
            "enter your value56\n",
            "56\n",
            "56.0\n",
            "56\n",
            "True\n"
          ]
        }
      ]
    },
    {
      "cell_type": "code",
      "source": [
        "#Q10.\n",
        "\n"
      ],
      "metadata": {
        "id": "FPHibCphdU4n"
      },
      "execution_count": null,
      "outputs": []
    },
    {
      "cell_type": "code",
      "source": [
        "#Q11.\n",
        "\n",
        "user = int(input(\"enter your number\"))\n",
        "\n",
        "if user > 0:\n",
        "    print(\"positive number\")\n",
        "if user < 0:\n",
        "    print(\"negative number\")\n",
        "if user == 0:\n",
        "    print(\"zero\")"
      ],
      "metadata": {
        "id": "EFY7W0HDf9dR",
        "outputId": "c1c24abb-f324-47a6-b1d1-5a8c3bb2f5b3",
        "colab": {
          "base_uri": "https://localhost:8080/"
        }
      },
      "execution_count": 7,
      "outputs": [
        {
          "output_type": "stream",
          "name": "stdout",
          "text": [
            "enter your number45\n",
            "positive number\n"
          ]
        }
      ]
    },
    {
      "cell_type": "code",
      "source": [
        "#Q12.\n",
        "\n",
        "for i in range(1,11):\n",
        "  print(i)"
      ],
      "metadata": {
        "id": "AhsOaahngfY2",
        "outputId": "5b00989f-217a-4075-8b55-aca335e7e8ed",
        "colab": {
          "base_uri": "https://localhost:8080/"
        }
      },
      "execution_count": 15,
      "outputs": [
        {
          "output_type": "stream",
          "name": "stdout",
          "text": [
            "1\n",
            "2\n",
            "3\n",
            "4\n",
            "5\n",
            "6\n",
            "7\n",
            "8\n",
            "9\n",
            "10\n"
          ]
        }
      ]
    },
    {
      "cell_type": "code",
      "source": [
        "#Q13.\n",
        "\n",
        "total = 0\n",
        "\n",
        "for number in range(1,51):\n",
        "    total += number\n",
        "\n",
        "print(total)"
      ],
      "metadata": {
        "id": "0JI8HKEIg-MF",
        "outputId": "af78b998-5f8b-4b07-f628-ce052318fbcb",
        "colab": {
          "base_uri": "https://localhost:8080/"
        }
      },
      "execution_count": 20,
      "outputs": [
        {
          "output_type": "stream",
          "name": "stdout",
          "text": [
            "1275\n"
          ]
        }
      ]
    },
    {
      "cell_type": "code",
      "source": [
        "#Q14.\n",
        "# Reverse a string using a while loop\n",
        "def reverse_string(input_string):\n",
        "    reversed_string = \"\"\n",
        "    index = len(input_string) - 1  # Start from the last character\n",
        "\n",
        "    while index >= 0:\n",
        "        reversed_string += input_string[index]\n",
        "        index -= 1\n",
        "\n",
        "    return reversed_string\n",
        "\n",
        "# Get input from the user\n",
        "user_input = input(\"Enter a string to reverse: \")\n",
        "result = reverse_string(user_input)\n",
        "\n",
        "print(\"Reversed string:\", result)\n",
        "\n"
      ],
      "metadata": {
        "id": "krZgTmtyjigj",
        "outputId": "4aaf1c48-dcf8-4758-9d73-741a60a6e089",
        "colab": {
          "base_uri": "https://localhost:8080/"
        }
      },
      "execution_count": 21,
      "outputs": [
        {
          "output_type": "stream",
          "name": "stdout",
          "text": [
            "Enter a string to reverse: amit\n",
            "Reversed string: tima\n"
          ]
        }
      ]
    },
    {
      "cell_type": "code",
      "source": [
        "#Q15\n",
        "\n",
        "# Program to calculate the factorial using a while loop\n",
        "def factorial(number):\n",
        "    result = 1\n",
        "    while number > 0:\n",
        "        result *= number  # Multiply the current number to the result\n",
        "        number -= 1       # Decrease the number by 1\n",
        "    return result\n",
        "\n",
        "# Get user input\n",
        "user_input = int(input(\"Enter a positive integer to calculate its factorial: \"))\n",
        "\n",
        "# Ensure the input is valid\n",
        "if user_input < 0:\n",
        "    print(\"Factorial is not defined for negative numbers.\")\n",
        "else:\n",
        "    fact = factorial(user_input)\n",
        "    print(f\"The factorial of {user_input} is: {fact}\")\n"
      ],
      "metadata": {
        "id": "3rNKNbSwj5ce"
      },
      "execution_count": null,
      "outputs": []
    }
  ],
  "metadata": {
    "colab": {
      "name": "Welcome to Colaboratory",
      "toc_visible": true,
      "provenance": []
    },
    "kernelspec": {
      "display_name": "Python 3",
      "name": "python3"
    }
  },
  "nbformat": 4,
  "nbformat_minor": 0
}